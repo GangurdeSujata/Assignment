{
  "nbformat": 4,
  "nbformat_minor": 0,
  "metadata": {
    "colab": {
      "name": "day5.ipynb",
      "provenance": [],
      "authorship_tag": "ABX9TyNkKChWcUb4MhyILYklYi+8",
      "include_colab_link": true
    },
    "kernelspec": {
      "name": "python3",
      "display_name": "Python 3"
    },
    "language_info": {
      "name": "python"
    }
  },
  "cells": [
    {
      "cell_type": "markdown",
      "metadata": {
        "id": "view-in-github",
        "colab_type": "text"
      },
      "source": [
        "<a href=\"https://colab.research.google.com/github/GangurdeSujata/Assignment/blob/main/day5.ipynb\" target=\"_parent\"><img src=\"https://colab.research.google.com/assets/colab-badge.svg\" alt=\"Open In Colab\"/></a>"
      ]
    },
    {
      "cell_type": "code",
      "execution_count": 4,
      "metadata": {
        "colab": {
          "base_uri": "https://localhost:8080/"
        },
        "id": "UZQFZzzFkb2S",
        "outputId": "273607e3-bd73-4deb-c009-85c061351703"
      },
      "outputs": [
        {
          "output_type": "stream",
          "name": "stdout",
          "text": [
            "[3, 6, 9, 12, 15, 18, 21, 24, 27, 30, 33, 36, 39, 42, 45, 48, 51, 54, 57, 60, 63, 66, 69, 72, 75, 78, 81, 84, 87, 90, 93, 96, 99] This numbers divisible by 3 in range 1-100\n",
            "\n",
            "[5, 10, 15, 20, 25, 30, 35, 40, 45, 50, 55, 60, 65, 70, 75, 80, 85, 90, 95] This numbers divisible by 5 in range 1-100\n",
            "\n"
          ]
        }
      ],
      "source": [
        "# Day5 =>\n",
        "li=list(range(1,100))\n",
        "result1=list(filter(lambda x:(x%3==0),li))\n",
        "result2=list(filter(lambda x:(x%5==0),li))\n",
        "print(result1,\"This numbers divisible by 3 in range 1-100\\n\")\n",
        "print(result2,\"This numbers divisible by 5 in range 1-100\\n\")"
      ]
    }
  ]
}