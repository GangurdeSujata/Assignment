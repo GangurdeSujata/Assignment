{
  "nbformat": 4,
  "nbformat_minor": 0,
  "metadata": {
    "colab": {
      "name": "day2",
      "provenance": [],
      "authorship_tag": "ABX9TyNyCyRcsCyaRDrpSYI0C8Zu",
      "include_colab_link": true
    },
    "kernelspec": {
      "name": "python3",
      "display_name": "Python 3"
    },
    "language_info": {
      "name": "python"
    }
  },
  "cells": [
    {
      "cell_type": "markdown",
      "metadata": {
        "id": "view-in-github",
        "colab_type": "text"
      },
      "source": [
        "<a href=\"https://colab.research.google.com/github/GangurdeSujata/Assignment/blob/main/day2.ipynb\" target=\"_parent\"><img src=\"https://colab.research.google.com/assets/colab-badge.svg\" alt=\"Open In Colab\"/></a>"
      ]
    },
    {
      "cell_type": "code",
      "execution_count": null,
      "metadata": {
        "id": "-5x3byWzoCVw"
      },
      "outputs": [],
      "source": [
        ""
      ]
    },
    {
      "cell_type": "code",
      "source": [
        "# Lottery Project\n",
        "s = input('Enter the lottery word: ')\n",
        "freq = [0] * 26\n",
        "print(freq)\n",
        "for i in s:\n",
        "  freq[ord(i) - 97] += 1\n",
        "print(freq)\n",
        "x = freq.index(max(freq))\n",
        "print(\"lottery character occurs at index\",x,\"is \",chr(97+x))"
      ],
      "metadata": {
        "colab": {
          "base_uri": "https://localhost:8080/"
        },
        "id": "RqS7VXWy6jRh",
        "outputId": "c71ac32b-9482-41c0-c391-eccc9c89bcff"
      },
      "execution_count": 9,
      "outputs": [
        {
          "output_type": "stream",
          "name": "stdout",
          "text": [
            "Enter the lottery word: welcome\n",
            "[0, 0, 0, 0, 0, 0, 0, 0, 0, 0, 0, 0, 0, 0, 0, 0, 0, 0, 0, 0, 0, 0, 0, 0, 0, 0]\n",
            "[0, 0, 1, 0, 2, 0, 0, 0, 0, 0, 0, 1, 1, 0, 1, 0, 0, 0, 0, 0, 0, 0, 1, 0, 0, 0]\n",
            "lottery character occurs at index 4 is  e\n"
          ]
        }
      ]
    }
  ]
}