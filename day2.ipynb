{
  "nbformat": 4,
  "nbformat_minor": 0,
  "metadata": {
    "colab": {
      "name": "day2",
      "provenance": [],
      "authorship_tag": "ABX9TyMU8RlGlgKgcri8V8V9FZDD",
      "include_colab_link": true
    },
    "kernelspec": {
      "name": "python3",
      "display_name": "Python 3"
    },
    "language_info": {
      "name": "python"
    }
  },
  "cells": [
    {
      "cell_type": "markdown",
      "metadata": {
        "id": "view-in-github",
        "colab_type": "text"
      },
      "source": [
        "<a href=\"https://colab.research.google.com/github/GangurdeSujata/Assignment/blob/main/day2.ipynb\" target=\"_parent\"><img src=\"https://colab.research.google.com/assets/colab-badge.svg\" alt=\"Open In Colab\"/></a>"
      ]
    },
    {
      "cell_type": "code",
      "execution_count": null,
      "metadata": {
        "id": "-5x3byWzoCVw"
      },
      "outputs": [],
      "source": [
        ""
      ]
    },
    {
      "cell_type": "code",
      "source": [
        "# Lottery Project\n",
        "s = input('Enter the lottery word: ')\n",
        "freq = [0] * 26\n",
        "print(freq)\n",
        "for i in s:\n",
        "  freq[ord(i) - 97] += 1\n",
        "print(freq)\n",
        "x = freq.index(max(freq))\n",
        "print(\"lottery character occurs at index \",x,\"is \",chr(97+x))"
      ],
      "metadata": {
        "colab": {
          "base_uri": "https://localhost:8080/"
        },
        "id": "RqS7VXWy6jRh",
        "outputId": "a4a1adba-25a9-4066-ea9e-9a35bba8804f"
      },
      "execution_count": 8,
      "outputs": [
        {
          "output_type": "stream",
          "name": "stdout",
          "text": [
            "Enter the lottery word: aabbbccccddddd\n",
            "[0, 0, 0, 0, 0, 0, 0, 0, 0, 0, 0, 0, 0, 0, 0, 0, 0, 0, 0, 0, 0, 0, 0, 0, 0, 0]\n",
            "[2, 3, 4, 5, 0, 0, 0, 0, 0, 0, 0, 0, 0, 0, 0, 0, 0, 0, 0, 0, 0, 0, 0, 0, 0, 0]\n",
            "lottery character occurs at index  3 is  d\n"
          ]
        }
      ]
    }
  ]
}