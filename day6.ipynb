{
  "nbformat": 4,
  "nbformat_minor": 0,
  "metadata": {
    "colab": {
      "name": "day6.ipynb",
      "provenance": [],
      "authorship_tag": "ABX9TyP43OvY/khofxOyPD8pvtYS",
      "include_colab_link": true
    },
    "kernelspec": {
      "name": "python3",
      "display_name": "Python 3"
    },
    "language_info": {
      "name": "python"
    }
  },
  "cells": [
    {
      "cell_type": "markdown",
      "metadata": {
        "id": "view-in-github",
        "colab_type": "text"
      },
      "source": [
        "<a href=\"https://colab.research.google.com/github/GangurdeSujata/Assignment/blob/main/day6.ipynb\" target=\"_parent\"><img src=\"https://colab.research.google.com/assets/colab-badge.svg\" alt=\"Open In Colab\"/></a>"
      ]
    },
    {
      "cell_type": "code",
      "execution_count": 6,
      "metadata": {
        "colab": {
          "base_uri": "https://localhost:8080/"
        },
        "id": "CSLTj_Ld2EOF",
        "outputId": "a173db4d-5792-4aad-b148-b0636a5ef91f"
      },
      "outputs": [
        {
          "output_type": "stream",
          "name": "stdout",
          "text": [
            "Enter two values: 3 8\n",
            "2\n"
          ]
        }
      ],
      "source": [
        "#Day 6 Assignment\n",
        "def div(a, b):\n",
        "  print(a//b)\n",
        "# Decorator\n",
        "def mod_div(fun): \n",
        "  def inner(a, b):\n",
        "    if a < b:\n",
        "      a, b = b, a\n",
        "    fun(a, b)\n",
        "  return inner\n",
        "\n",
        "a, b = (int(i) for i in input('Enter two values: ').split())\n",
        "div = mod_div(div) \n",
        "div(a, b)"
      ]
    }
  ]
}