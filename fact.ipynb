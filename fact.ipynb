{
  "nbformat": 4,
  "nbformat_minor": 0,
  "metadata": {
    "colab": {
      "name": "fact.ipynb",
      "provenance": [],
      "authorship_tag": "ABX9TyNfnop2dQ9hUYVw8Xtypa4f",
      "include_colab_link": true
    },
    "kernelspec": {
      "name": "python3",
      "display_name": "Python 3"
    },
    "language_info": {
      "name": "python"
    }
  },
  "cells": [
    {
      "cell_type": "markdown",
      "metadata": {
        "id": "view-in-github",
        "colab_type": "text"
      },
      "source": [
        "<a href=\"https://colab.research.google.com/github/GangurdeSujata/Assignment/blob/main/fact.ipynb\" target=\"_parent\"><img src=\"https://colab.research.google.com/assets/colab-badge.svg\" alt=\"Open In Colab\"/></a>"
      ]
    },
    {
      "cell_type": "code",
      "execution_count": 1,
      "metadata": {
        "colab": {
          "base_uri": "https://localhost:8080/"
        },
        "id": "7GzblQz4ix8c",
        "outputId": "c3c2343b-38e5-41e7-edcc-8ed4239e133f"
      },
      "outputs": [
        {
          "output_type": "stream",
          "name": "stdout",
          "text": [
            "enter a number:5\n",
            "factorial is: 120\n"
          ]
        }
      ],
      "source": [
        "# Day4 Assignment=>\n",
        "def factorial(n):\n",
        "  fact=1\n",
        "  while 1<n:\n",
        "    fact=fact*n\n",
        "    n-=1\n",
        "  print(\"factorial is:\",fact)\n",
        "\n",
        "factorial(int(input(\"enter a number:\")))\n"
      ]
    }
  ]
}